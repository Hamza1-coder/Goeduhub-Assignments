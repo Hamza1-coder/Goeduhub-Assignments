{
 "cells": [
  {
   "cell_type": "markdown",
   "metadata": {},
   "source": [
    "## Assignment/Task 1\n",
    "\n",
    "### Hint: Python If Condition\n",
    "\n",
    "1. We are having 3 list like this\n",
    "\n",
    "Colors = [“Yellow”,”Green”,”White”,”Black”]\n",
    "\n",
    "Fruits=[“Apple”,”Papaya”,”Mango”,”Orange”]\n",
    "\n",
    "Animals=[“Tiger”,”Lion”,”Deer”,”Zebra”]\n",
    "\n",
    "  i. Write a program that asks user to enter a Color/Fruit/Animal name and it should tell which category belongs to , like its is a fruit or color or Animal\n",
    "\n",
    " ii. Write a program that asks user to enter two cities and it tells you if they both are in same country or not. For example if I enter yellow and Black, it will print \"Both are colors\" but if I enter yellow and Tiger it should print \"They don't belong to same category\"\n",
    "\n",
    "2.  Write a python program that can tell you if your grade score good or not . Normal Score range is 40 to 60.\n",
    "\n",
    "  i. Ask user to enter his score.\n",
    "\n",
    "  ii. If it is below 40 to 60 range then print that score is low\n",
    "\n",
    "  iii. If it is above 60 then print that it is good otherwise print that it is normal\n",
    "\n",
    "### Hint: Loop Questions\n",
    "\n",
    "3.  After appearing in exam 10 times you got this result,\n",
    "\n",
    "result = [\"Pass\",\"Fail\",\"Fail\",\"Pass\",\"Fail\",\"Pass\",\"Pass\",\"Fail\",\"Fail\",\"Fail\"]\n",
    "\n",
    "Using for loop figure out how many times you got Pass\n",
    "\n",
    "4.  Write a program that prints following shape\n",
    "\n",
    " |*\n",
    "\n",
    " |* *\n",
    "\n",
    " |* * *\n",
    "\n",
    " |* * * *\n",
    "\n",
    " |* * * * *\n",
    "\n",
    " |* * * *\n",
    "\n",
    " |* * *\n",
    "\n",
    " |* *\n",
    "\n",
    " |*\n",
    "\n",
    "5.   Lets say you are running a 50 km race. Write a program that,\n",
    "\n",
    "    Upon completing each 10 km asks you \"are you tired?\"\n",
    "    If you reply \"yes\" then it should break and print \"you didn't finish the race\"\n",
    "     If you reply \"no\" then it should continue and ask \"are you tired\" on every km\n",
    "    If you finish all 50 km then it should print congratulations message\n",
    "\n",
    "6.  Write a Python program to find those numbers which are divisible by 7 and multiple of 5, between 1500 and 2700 (both included).\n",
    "\n",
    "7.   Print square of all numbers between 10 to 20 except even numbers\n",
    "\n",
    "8.  Your Marks for five Test(test1 to test5) looks like this,\n",
    "\n",
    "marks_list = [65, 75, 2100, 95, 83]\n",
    "\n",
    "Write a program that asks you to enter marks and program should tell you in which test that marks occurred. If marks is not found then it should print that as well."
   ]
  },
  {
   "cell_type": "markdown",
   "metadata": {},
   "source": [
    "### Question 1\n",
    "#### i)"
   ]
  },
  {
   "cell_type": "code",
   "execution_count": 6,
   "metadata": {},
   "outputs": [
    {
     "name": "stdout",
     "output_type": "stream",
     "text": [
      "Enter Color/Fruit/Animal name: ok\n",
      "You choose wrong type, Thankyou\n"
     ]
    }
   ],
   "source": [
    "Colors = ['Yellow', 'Green', 'White', 'Black']\n",
    "Fruits = ['Apple', 'Papaya', 'Mango', 'Orange']\n",
    "Animals = ['Tiger', 'Lion', 'Deer', 'Zebra']\n",
    "\n",
    "user_input = input('Enter Color/Fruit/Animal name: ')\n",
    "if user_input in Colors:\n",
    "    print('You type Color name: ', user_input)\n",
    "elif user_input in Fruits:\n",
    "    print('You type Fruit name: ', user_input)\n",
    "elif user_input in Animals:\n",
    "    print('You type Animal name: ', user_input)\n",
    "else:\n",
    "    print('You choose wrong type, Thankyou')"
   ]
  },
  {
   "cell_type": "markdown",
   "metadata": {},
   "source": [
    "#### ii)"
   ]
  },
  {
   "cell_type": "code",
   "execution_count": 14,
   "metadata": {},
   "outputs": [
    {
     "name": "stdout",
     "output_type": "stream",
     "text": [
      "Enter the first category: Lion\n",
      "Enter the second category: Deer\n",
      "Both are Animals\n"
     ]
    }
   ],
   "source": [
    "input_1 = input('Enter the first category: ')\n",
    "input_2 = input('Enter the second category: ')\n",
    "\n",
    "if input_1 in Colors:\n",
    "    if input_2 in Colors:\n",
    "        print('Both are colors')\n",
    "    elif input_2 not in Colors:\n",
    "        print(\"They don't belong to same category\")\n",
    "elif input_1 in Fruits:\n",
    "    if input_2 in Fruits:\n",
    "        print('Both are Fruits')\n",
    "    elif input_2 not in Colors:\n",
    "        print(\"They don't belong to same category\")\n",
    "elif input_1 in Animals:\n",
    "    if input_2 in Animals:\n",
    "        print('Both are Animals')\n",
    "    elif input_2 not in Animals:\n",
    "        print(\"They don't belong to same category\")"
   ]
  },
  {
   "cell_type": "markdown",
   "metadata": {},
   "source": [
    "### Question 2"
   ]
  },
  {
   "cell_type": "code",
   "execution_count": 18,
   "metadata": {},
   "outputs": [
    {
     "name": "stdout",
     "output_type": "stream",
     "text": [
      "Enter your score: 80\n",
      "Score is Good\n"
     ]
    }
   ],
   "source": [
    "score = int(input('Enter your score: '))\n",
    "if score < 40 or score < 60:\n",
    "    print('Score is Low')\n",
    "elif score > 60:\n",
    "    print('Score is Good')\n",
    "else:\n",
    "    print('Score is Normal')"
   ]
  },
  {
   "cell_type": "markdown",
   "metadata": {},
   "source": [
    "### Question 3"
   ]
  },
  {
   "cell_type": "code",
   "execution_count": 20,
   "metadata": {},
   "outputs": [
    {
     "name": "stdout",
     "output_type": "stream",
     "text": [
      "You Pass  4  time in Exam.\n"
     ]
    }
   ],
   "source": [
    "result = ['Pass','Fail','Fail','Pass','Fail','Pass','Pass','Fail','Fail','Fail']\n",
    "count_pass = 0\n",
    "for i in result:\n",
    "    if i == 'Pass':\n",
    "        count_pass+=1\n",
    "print('You Pass ',count_pass, ' time in Exam.')"
   ]
  },
  {
   "cell_type": "markdown",
   "metadata": {},
   "source": [
    "### Question 4"
   ]
  },
  {
   "cell_type": "code",
   "execution_count": 58,
   "metadata": {},
   "outputs": [
    {
     "name": "stdout",
     "output_type": "stream",
     "text": [
      "* \n",
      "** \n",
      "*** \n",
      "**** \n",
      "***** \n",
      "**** \n",
      "*** \n",
      "** \n",
      "* \n"
     ]
    }
   ],
   "source": [
    "for i in range(0,5):\n",
    "    for j in range(0,i+1):\n",
    "        print(\"*\",end='')\n",
    "    print(\" \")\n",
    "for i in range(5,1,-1):\n",
    "        for j in range(0,i-1):\n",
    "            print(\"*\",end='')\n",
    "        print(\" \")"
   ]
  },
  {
   "cell_type": "markdown",
   "metadata": {},
   "source": [
    "### Question 5"
   ]
  },
  {
   "cell_type": "code",
   "execution_count": 40,
   "metadata": {},
   "outputs": [
    {
     "name": "stdout",
     "output_type": "stream",
     "text": [
      "are you tired? no\n",
      "are you tired? no\n",
      "are you tired? no\n",
      "are you tired? no\n",
      "are you tired? no\n",
      "Congratulations!! you finish the race\n"
     ]
    }
   ],
   "source": [
    "count = 0\n",
    "for i in range(1,51):\n",
    "    if(i%10) == 0:\n",
    "        tired = input('are you tired? ')\n",
    "        if tired == 'yes':\n",
    "            print('you did not finish the race')\n",
    "            count = 1\n",
    "            break\n",
    "        elif tired == 'no':\n",
    "            continue\n",
    "if count == 0:\n",
    "     print('Congratulations!! you finish the race')"
   ]
  },
  {
   "cell_type": "markdown",
   "metadata": {},
   "source": [
    "### Question 6"
   ]
  },
  {
   "cell_type": "code",
   "execution_count": 8,
   "metadata": {},
   "outputs": [
    {
     "name": "stdout",
     "output_type": "stream",
     "text": [
      "[1505, 1540, 1575, 1610, 1645, 1680, 1715, 1750, 1785, 1820, 1855, 1890, 1925, 1960, 1995, 2030, 2065, 2100, 2135, 2170, 2205, 2240, 2275, 2310, 2345, 2380, 2415, 2450, 2485, 2520, 2555, 2590, 2625, 2660, 2695]\n"
     ]
    }
   ],
   "source": [
    "number = []\n",
    "for i in range(1500, 2701):\n",
    "    if (i%7==0) and (i%5==0):\n",
    "        number.append(i)\n",
    "print(number)"
   ]
  },
  {
   "cell_type": "markdown",
   "metadata": {},
   "source": [
    "### Question 7"
   ]
  },
  {
   "cell_type": "code",
   "execution_count": 18,
   "metadata": {},
   "outputs": [
    {
     "name": "stdout",
     "output_type": "stream",
     "text": [
      "[121, 169, 225, 289, 361]\n"
     ]
    }
   ],
   "source": [
    "odd = []\n",
    "for i in range(10,20):\n",
    "    if i%2!=0:\n",
    "        odd.append(i)\n",
    "odd = list(map(lambda x:x*x, odd))\n",
    "print(odd)"
   ]
  },
  {
   "cell_type": "markdown",
   "metadata": {},
   "source": [
    "### Question 8"
   ]
  },
  {
   "cell_type": "code",
   "execution_count": 41,
   "metadata": {},
   "outputs": [
    {
     "name": "stdout",
     "output_type": "stream",
     "text": [
      "Enter marks: 75\n",
      "You got  75  marks in  test2\n"
     ]
    }
   ],
   "source": [
    "marks_list = [65,75,2100,95,83]\n",
    "_ = {65:'test1',75:'test2',2100:'test3',95:'test4',83:'test5'}\n",
    "mark = int(input('Enter marks: '))\n",
    "for i in marks_list:\n",
    "    if mark == i:\n",
    "        index = i\n",
    "        break;\n",
    "    elif mark not in marks_list:\n",
    "        print('Mark is not found:')\n",
    "        break;\n",
    "print('You got ',index,' marks in ', _[index])"
   ]
  },
  {
   "cell_type": "code",
   "execution_count": null,
   "metadata": {},
   "outputs": [],
   "source": []
  }
 ],
 "metadata": {
  "kernelspec": {
   "display_name": "Python 3",
   "language": "python",
   "name": "python3"
  }
 },
 "nbformat": 4,
 "nbformat_minor": 4
}
